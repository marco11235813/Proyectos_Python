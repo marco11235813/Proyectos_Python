{
 "cells": [
  {
   "cell_type": "code",
   "execution_count": 18,
   "metadata": {},
   "outputs": [],
   "source": [
    "import random\n",
    "palabras_random= ['camisa', 'pelota', 'celular', 'lampara']\n",
    "random.shuffle(palabras_random)\n"
   ]
  },
  {
   "cell_type": "code",
   "execution_count": 19,
   "metadata": {},
   "outputs": [
    {
     "data": {
      "text/plain": [
       "['pelota', 'camisa', 'celular', 'lampara']"
      ]
     },
     "execution_count": 19,
     "metadata": {},
     "output_type": "execute_result"
    }
   ],
   "source": [
    "palabras_random"
   ]
  },
  {
   "cell_type": "code",
   "execution_count": 20,
   "metadata": {},
   "outputs": [
    {
     "name": "stdout",
     "output_type": "stream",
     "text": [
      "6\n",
      "7\n"
     ]
    }
   ],
   "source": [
    "print(len(palabras_random[0]))\n",
    "random.shuffle(palabras_random)\n",
    "print(len(palabras_random[0]))"
   ]
  },
  {
   "cell_type": "code",
   "execution_count": 21,
   "metadata": {},
   "outputs": [
    {
     "data": {
      "text/plain": [
       "['celular', 'lampara', 'camisa', 'pelota']"
      ]
     },
     "execution_count": 21,
     "metadata": {},
     "output_type": "execute_result"
    }
   ],
   "source": [
    "palabras_random"
   ]
  },
  {
   "cell_type": "code",
   "execution_count": 22,
   "metadata": {},
   "outputs": [
    {
     "data": {
      "text/plain": [
       "'abc'"
      ]
     },
     "execution_count": 22,
     "metadata": {},
     "output_type": "execute_result"
    }
   ],
   "source": [
    "lista= ['a','b','c']\n",
    "\"\".join(lista)"
   ]
  },
  {
   "cell_type": "code",
   "execution_count": 27,
   "metadata": {},
   "outputs": [
    {
     "data": {
      "text/plain": [
       "False"
      ]
     },
     "execution_count": 27,
     "metadata": {},
     "output_type": "execute_result"
    }
   ],
   "source": [
    "'j' in lista"
   ]
  },
  {
   "cell_type": "code",
   "execution_count": 26,
   "metadata": {},
   "outputs": [
    {
     "name": "stdout",
     "output_type": "stream",
     "text": [
      "no existe\n"
     ]
    }
   ],
   "source": [
    "if 'j' in lista:\n",
    "    print('existe')\n",
    "else:\n",
    "    print('no existe')"
   ]
  },
  {
   "cell_type": "code",
   "execution_count": 29,
   "metadata": {},
   "outputs": [
    {
     "data": {
      "text/plain": [
       "False"
      ]
     },
     "execution_count": 29,
     "metadata": {},
     "output_type": "execute_result"
    }
   ],
   "source": [
    "lista= ['pan', 'coca']\n",
    "lista[0][2] == 'f'"
   ]
  },
  {
   "cell_type": "code",
   "execution_count": 34,
   "metadata": {},
   "outputs": [
    {
     "data": {
      "text/plain": [
       "[1, 2, 3, 4]"
      ]
     },
     "execution_count": 34,
     "metadata": {},
     "output_type": "execute_result"
    }
   ],
   "source": [
    "rondas= [x for x in range(1, len(palabras_random)+1)]\n",
    "rondas"
   ]
  },
  {
   "cell_type": "code",
   "execution_count": 35,
   "metadata": {},
   "outputs": [],
   "source": [
    "palabras_random= ['camisa', 'pelota', 'celular', 'lampara'] \n",
    "palabras_random.remove(palabras_random[0])"
   ]
  },
  {
   "cell_type": "code",
   "execution_count": 36,
   "metadata": {},
   "outputs": [
    {
     "data": {
      "text/plain": [
       "['pelota', 'celular', 'lampara']"
      ]
     },
     "execution_count": 36,
     "metadata": {},
     "output_type": "execute_result"
    }
   ],
   "source": [
    "palabras_random"
   ]
  },
  {
   "cell_type": "code",
   "execution_count": 3,
   "metadata": {},
   "outputs": [],
   "source": [
    "##ejemlo con try,except,finally.....orden de jerarquia\n",
    "def foo(x):\n",
    "    try:\n",
    "        return 10/x\n",
    "    except ZeroDivisionError:\n",
    "        return 'error'\n",
    "    finally:\n",
    "        return 0\n",
    "    "
   ]
  },
  {
   "cell_type": "code",
   "execution_count": 4,
   "metadata": {},
   "outputs": [
    {
     "name": "stdout",
     "output_type": "stream",
     "text": [
      "error\n"
     ]
    }
   ],
   "source": [
    "resultado= foo(0)\n",
    "print(resultado)"
   ]
  },
  {
   "cell_type": "code",
   "execution_count": 47,
   "metadata": {},
   "outputs": [
    {
     "data": {
      "text/plain": [
       "120"
      ]
     },
     "execution_count": 47,
     "metadata": {},
     "output_type": "execute_result"
    }
   ],
   "source": [
    "def factorial(numero):\n",
    "  \"\"\" devuelve el factorial de un numero\n",
    "\n",
    "  \"\"\"\n",
    "  if numero >1:\n",
    "    numero=numero*factorial(numero-1)\n",
    "  return numero\n",
    "\n",
    "\n",
    "\n",
    "class calcular:\n",
    "    def __init__(self):\n",
    "        self.numeros= input('ingresa la operacion que quieres realizar: ')\n",
    "\n",
    "\n",
    "    def suma(self):\n",
    "        for x,num in enumerate(self.numeros):\n",
    "            if num == '+':\n",
    "                suma= int(self.numeros[x-1]) + int(self.numeros[x+1])\n",
    "        return suma\n",
    "    def resta(self):\n",
    "        for x,num in enumerate(self.numeros):\n",
    "            if num == '-':\n",
    "               resta= int(self.numeros[x-1]) - int(self.numeros[x+1])\n",
    "        return resta\n",
    "    def multiplicacion(self):\n",
    "        for x,num in enumerate(self.numeros):\n",
    "            if num == '*':\n",
    "                if '**' in self.numeros:\n",
    "                    pass\n",
    "                else:                               \n",
    "                    multiplicacion= int(self.numeros[x-1]) * int(self.numeros[x+1])\n",
    "                    return multiplicacion\n",
    "    def division(self):\n",
    "        for x,num in enumerate(self.numeros):\n",
    "            if num == '/':\n",
    "                if '//' in self.numeros:\n",
    "                     division= int(self.numeros[x-1]) // int(self.numeros[x+2])\n",
    "                     return division\n",
    "                else:\n",
    "                     division= int(self.numeros[x-1]) / int(self.numeros[x+1])\n",
    "                     return division\n",
    "    def potencia(self):\n",
    "        for x,num in enumerate(self.numeros):\n",
    "            if num == '*':\n",
    "                if '**' in self.numeros:\n",
    "                    potencia= int(self.numeros[x-1]) ** int(self.numeros[x+2])\n",
    "                    return potencia\n",
    "                else:\n",
    "                    pass\n",
    "    def raiz(self):\n",
    "        return\n",
    "    def factorial(self):\n",
    "        for x,numero in enumerate(self.numeros):\n",
    "            if numero == '!':\n",
    "                continue\n",
    "            else:\n",
    "                if int(numero) >1:\n",
    "                    numero=int(numero)*factorial(int(numero)-1)\n",
    "                    return numero\n",
    "    \n",
    "calculadora= calcular()\n",
    "calculadora.factorial()\n"
   ]
  },
  {
   "cell_type": "code",
   "execution_count": 37,
   "metadata": {},
   "outputs": [],
   "source": []
  },
  {
   "cell_type": "code",
   "execution_count": 15,
   "metadata": {},
   "outputs": [
    {
     "data": {
      "text/plain": [
       "4.0"
      ]
     },
     "execution_count": 15,
     "metadata": {},
     "output_type": "execute_result"
    }
   ],
   "source": [
    "calculadora= calcular()\n",
    "calculadora.division()\n"
   ]
  },
  {
   "cell_type": "code",
   "execution_count": 1,
   "metadata": {},
   "outputs": [],
   "source": [
    "import random as r"
   ]
  },
  {
   "cell_type": "code",
   "execution_count": 10,
   "metadata": {},
   "outputs": [
    {
     "name": "stdout",
     "output_type": "stream",
     "text": [
      "errores: 3, 2\n",
      "errores: 3, 3\n"
     ]
    }
   ],
   "source": [
    "a= r.randint(1,10)\n",
    "b= r.randint(1,10)\n",
    "while a > b:\n",
    "    a= r.randint(1,10)\n",
    "    b= r.randint(1,10)\n",
    "    print(f'errores: {a}, {b}')"
   ]
  }
 ],
 "metadata": {
  "kernelspec": {
   "display_name": "Python 3",
   "language": "python",
   "name": "python3"
  },
  "language_info": {
   "codemirror_mode": {
    "name": "ipython",
    "version": 3
   },
   "file_extension": ".py",
   "mimetype": "text/x-python",
   "name": "python",
   "nbconvert_exporter": "python",
   "pygments_lexer": "ipython3",
   "version": "3.11.0"
  },
  "orig_nbformat": 4
 },
 "nbformat": 4,
 "nbformat_minor": 2
}
